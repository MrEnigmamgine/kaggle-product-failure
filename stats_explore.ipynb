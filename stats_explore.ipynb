{
 "cells": [
  {
   "cell_type": "code",
   "execution_count": 1,
   "metadata": {},
   "outputs": [],
   "source": [
    "# Core DS libraries\n",
    "import numpy as np\n",
    "import pandas as pd\n",
    "\n",
    "# Visualization Libraries\n",
    "import matplotlib.pyplot as plt\n",
    "import seaborn as sns\n",
    "\n",
    "import mytk # My Toolkit\n",
    "import wrangle # Helper functions"
   ]
  },
  {
   "cell_type": "markdown",
   "metadata": {},
   "source": [
    "- Detect if column is numerical or categorical\n",
    "    - Allow manual overriding"
   ]
  },
  {
   "cell_type": "code",
   "execution_count": 2,
   "metadata": {},
   "outputs": [],
   "source": [
    "df = wrangle.wrangle_potatoes()[0]"
   ]
  },
  {
   "cell_type": "code",
   "execution_count": 3,
   "metadata": {},
   "outputs": [
    {
     "data": {
      "text/plain": [
       "Index(['product_code', 'loading', 'attribute_0', 'attribute_1', 'attribute_2',\n",
       "       'attribute_3', 'measurement_0', 'measurement_1', 'measurement_2',\n",
       "       'measurement_3', 'measurement_4', 'measurement_5', 'measurement_6',\n",
       "       'measurement_7', 'measurement_8', 'measurement_9', 'measurement_10',\n",
       "       'measurement_11', 'measurement_12', 'measurement_13', 'measurement_14',\n",
       "       'measurement_15', 'measurement_16', 'measurement_17', 'failure'],\n",
       "      dtype='object')"
      ]
     },
     "execution_count": 3,
     "metadata": {},
     "output_type": "execute_result"
    }
   ],
   "source": [
    "df.columns"
   ]
  },
  {
   "cell_type": "code",
   "execution_count": 7,
   "metadata": {},
   "outputs": [
    {
     "data": {
      "text/plain": [
       "['product_code', 'attribute_0', 'attribute_1']"
      ]
     },
     "execution_count": 7,
     "metadata": {},
     "output_type": "execute_result"
    }
   ],
   "source": [
    "l = df.select_dtypes(include=['object','category','bool']).columns.tolist()\n",
    "l"
   ]
  },
  {
   "cell_type": "code",
   "execution_count": 13,
   "metadata": {},
   "outputs": [],
   "source": [
    "def get_column_types(df, override_categorical=[], override_numerical=[]):\n",
    "\n",
    "    cat_cols = df.select_dtypes(include=['object','category','bool']).columns.tolist()\n",
    "    num_cols = df.select_dtypes(exclude=['object','category','bool']).columns.tolist()\n",
    "\n",
    "    for val in override_categorical:\n",
    "        if val in num_cols:\n",
    "            num_cols.remove(val)\n",
    "            cat_cols.append(val)\n",
    "    for val in override_numerical:\n",
    "        if val in cat_cols:\n",
    "            cat_cols.remove(val)\n",
    "            num_cols.append(val)\n",
    "\n",
    "    out = {\n",
    "        'cat': cat_cols,\n",
    "        'num': num_cols\n",
    "    }\n",
    "    return out"
   ]
  },
  {
   "cell_type": "code",
   "execution_count": 18,
   "metadata": {},
   "outputs": [
    {
     "data": {
      "text/plain": [
       "['attribute_0',\n",
       " 'failure',\n",
       " 'product_code',\n",
       " 'attribute_0',\n",
       " 'attribute_1',\n",
       " 'attribute_2',\n",
       " 'attribute_3',\n",
       " 'failure']"
      ]
     },
     "execution_count": 18,
     "metadata": {},
     "output_type": "execute_result"
    }
   ],
   "source": [
    "gotchas = mytk.get_gotchas(df)\n",
    "gotchas['possible_bools'] + gotchas['probable_categories']"
   ]
  },
  {
   "cell_type": "code",
   "execution_count": 19,
   "metadata": {},
   "outputs": [
    {
     "data": {
      "text/plain": [
       "{'cat': ['product_code',\n",
       "  'attribute_0',\n",
       "  'attribute_1',\n",
       "  'failure',\n",
       "  'attribute_2',\n",
       "  'attribute_3'],\n",
       " 'num': ['loading',\n",
       "  'measurement_0',\n",
       "  'measurement_1',\n",
       "  'measurement_2',\n",
       "  'measurement_3',\n",
       "  'measurement_4',\n",
       "  'measurement_5',\n",
       "  'measurement_6',\n",
       "  'measurement_7',\n",
       "  'measurement_8',\n",
       "  'measurement_9',\n",
       "  'measurement_10',\n",
       "  'measurement_11',\n",
       "  'measurement_12',\n",
       "  'measurement_13',\n",
       "  'measurement_14',\n",
       "  'measurement_15',\n",
       "  'measurement_16',\n",
       "  'measurement_17']}"
      ]
     },
     "execution_count": 19,
     "metadata": {},
     "output_type": "execute_result"
    }
   ],
   "source": [
    "get_column_types(df, override_categorical=gotchas['possible_bools'] + gotchas['probable_categories'])"
   ]
  }
 ],
 "metadata": {
  "kernelspec": {
   "display_name": "Python 3.10.4 64-bit",
   "language": "python",
   "name": "python3"
  },
  "language_info": {
   "codemirror_mode": {
    "name": "ipython",
    "version": 3
   },
   "file_extension": ".py",
   "mimetype": "text/x-python",
   "name": "python",
   "nbconvert_exporter": "python",
   "pygments_lexer": "ipython3",
   "version": "3.10.4"
  },
  "orig_nbformat": 4,
  "vscode": {
   "interpreter": {
    "hash": "37b4e1d782780d9803a775659fc8b81e9cc61a0899d4564192c1f7cc3c556e45"
   }
  }
 },
 "nbformat": 4,
 "nbformat_minor": 2
}
