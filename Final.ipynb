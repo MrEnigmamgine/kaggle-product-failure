{
 "cells": [
  {
   "cell_type": "markdown",
   "metadata": {},
   "source": [
    "# Kaggle Product Failure  \n",
    "By Joshua Mayes - 08/18/2022"
   ]
  },
  {
   "cell_type": "code",
   "execution_count": 34,
   "metadata": {},
   "outputs": [],
   "source": [
    "# Core DS libraries\n",
    "import numpy as np\n",
    "import pandas as pd\n",
    "\n",
    "# Visualization Libraries\n",
    "import matplotlib.pyplot as plt\n",
    "import seaborn as sns\n",
    "\n",
    "import mytk # My Toolkit\n",
    "import wrangle # Helper functions\n",
    "\n",
    "from sklearn.impute import SimpleImputer\n",
    "from sklearn.feature_selection import RFE\n",
    "from sklearn.ensemble import RandomForestClassifier\n",
    "from sklearn.neural_network import MLPClassifier\n",
    "from sklearn.neighbors import KNeighborsClassifier\n",
    "from sklearn.metrics import RocCurveDisplay, roc_auc_score\n"
   ]
  },
  {
   "cell_type": "code",
   "execution_count": 20,
   "metadata": {},
   "outputs": [],
   "source": [
    "pd.options.display.max_columns = None\n",
    "train, test, validate = wrangle.wrangle_potatoes()"
   ]
  },
  {
   "cell_type": "code",
   "execution_count": 21,
   "metadata": {},
   "outputs": [],
   "source": [
    "# Load and impute null values for the kaggle submission data\n",
    "final = pd.read_csv('./data/test.csv')\n",
    "imputeCols = train.select_dtypes(include=np.number).drop(columns='failure').columns.tolist()\n",
    "imputer =  SimpleImputer()\n",
    "imputer.fit(train[imputeCols])\n",
    "final[imputeCols] = imputer.transform(final[imputeCols])"
   ]
  },
  {
   "cell_type": "markdown",
   "metadata": {},
   "source": [
    "## Findings"
   ]
  },
  {
   "cell_type": "markdown",
   "metadata": {},
   "source": [
    "### The failure rate varies slightly across different product codes."
   ]
  },
  {
   "cell_type": "code",
   "execution_count": 22,
   "metadata": {},
   "outputs": [
    {
     "data": {
      "text/plain": [
       "<AxesSubplot:xlabel='product_code', ylabel='failure'>"
      ]
     },
     "execution_count": 22,
     "metadata": {},
     "output_type": "execute_result"
    },
    {
     "data": {
      "image/png": "[encoded data removed]",
      "text/plain": [
       "<Figure size 432x288 with 1 Axes>"
      ]
     },
     "metadata": {
      "needs_background": "light"
     },
     "output_type": "display_data"
    }
   ],
   "source": [
    "# Show the failure rate across product codes\n",
    "sns.barplot(data=train, x='product_code', y='failure')"
   ]
  },
  {
   "cell_type": "markdown",
   "metadata": {},
   "source": [
    "In all of my exploration this seemed to be the single most powerful predictor of failure.  \n",
    "However, the product codes don't match the dataset we will be predicting on"
   ]
  },
  {
   "cell_type": "code",
   "execution_count": 23,
   "metadata": {},
   "outputs": [
    {
     "data": {
      "text/plain": [
       "F    5422\n",
       "I    5228\n",
       "G    5107\n",
       "H    5018\n",
       "Name: product_code, dtype: int64"
      ]
     },
     "execution_count": 23,
     "metadata": {},
     "output_type": "execute_result"
    }
   ],
   "source": [
    "# Show the product codes available in the final dataset\n",
    "final.product_code.value_counts()"
   ]
  },
  {
   "cell_type": "markdown",
   "metadata": {},
   "source": [
    "So we cannot use that as a predictor."
   ]
  },
  {
   "cell_type": "markdown",
   "metadata": {},
   "source": [
    "<div style=\"background-color: #f44336; color: white; border-radius: 25px; padding: 15px; width: 55%\">\n",
    " <strong>Warning!</strong>\n",
    "\n",
    "  A model only performs well for the world in which it was trained.  Since the product codes available for training are different than those that can be predicted on, there is not a reasonable expectation for a good model performance.\n",
    "</div>"
   ]
  },
  {
   "cell_type": "markdown",
   "metadata": {},
   "source": [
    "### When examining each product separately, measurement_2 is the only feature that has predictive power over failure."
   ]
  },
  {
   "cell_type": "code",
   "execution_count": 24,
   "metadata": {},
   "outputs": [],
   "source": [
    "# Use my toolkit to quickly identify category columns stored as integers\n",
    "gotchas = mytk.get_gotchas(train)\n",
    "override_cat = gotchas['probable_categories']\n",
    "\n",
    "# Function that splits the data by product code and deploys statistical tests\n",
    "def failure_stats_for_each_prod(df):\n",
    "    prod = {}\n",
    "    for code in df.product_code.unique().tolist():\n",
    "        prod[code] =  df[df.product_code == code].copy()\n",
    "    results = {}\n",
    "    for k, v in prod.items():\n",
    "        results[k] = mytk.pop_unrejected(mytk.all_the_stats(v, override_categorical=override_cat))['failure']\n",
    "    # Then prints it in json format\n",
    "    print(mytk.prettify(results))\n",
    "\n",
    "# failure_stats_for_each_prod(train)"
   ]
  },
  {
   "cell_type": "markdown",
   "metadata": {},
   "source": [
    "For products \"B\" and \"D\" `measurement_2` seems to be a statistically significant predictor of failure."
   ]
  },
  {
   "cell_type": "markdown",
   "metadata": {},
   "source": [
    "### RFE (Recursive Feature Elimination) reveals some other strong predictors"
   ]
  },
  {
   "cell_type": "markdown",
   "metadata": {},
   "source": [
    "Before I can use RFE, however, I need to temporarily encode my categorical variables"
   ]
  },
  {
   "cell_type": "code",
   "execution_count": 25,
   "metadata": {},
   "outputs": [],
   "source": [
    "def encode_variables(df):\n",
    "    catCols = ['product_code','attribute_0','attribute_1','attribute_2','attribute_3']\n",
    "    for col in catCols:\n",
    "        df[col] = df[col].astype('category').cat.codes\n",
    "    return df\n",
    "# Encode categoricals\n",
    "train_encoded = encode_variables(train)"
   ]
  },
  {
   "cell_type": "code",
   "execution_count": 26,
   "metadata": {},
   "outputs": [
    {
     "data": {
      "text/plain": [
       "array(['loading', 'measurement_5', 'measurement_17'], dtype=object)"
      ]
     },
     "execution_count": 26,
     "metadata": {},
     "output_type": "execute_result"
    }
   ],
   "source": [
    "# Use RFE to get the best 3 features\n",
    "estimator = RandomForestClassifier(max_depth=5)\n",
    "selector = RFE(estimator=estimator, n_features_to_select=3 )\n",
    "selector.fit(train_encoded.drop(columns='failure'), train_encoded.failure)\n",
    "selector.get_feature_names_out()"
   ]
  },
  {
   "cell_type": "code",
   "execution_count": 27,
   "metadata": {},
   "outputs": [],
   "source": [
    "feats = ['loading', 'measurement_2','measurement_5', 'measurement_17' ] \n",
    "target = 'failure'"
   ]
  },
  {
   "cell_type": "markdown",
   "metadata": {},
   "source": [
    "## Modeling"
   ]
  },
  {
   "cell_type": "markdown",
   "metadata": {},
   "source": [
    "### Modeling X/y prepartion"
   ]
  },
  {
   "cell_type": "code",
   "execution_count": 28,
   "metadata": {},
   "outputs": [],
   "source": [
    "# Train X/y\n",
    "tx = train[feats]\n",
    "ty = train.failure\n",
    "\n",
    "# Test X/y\n",
    "sx = test[feats]\n",
    "sy = test.failure\n",
    "\n",
    "# Validate X/y\n",
    "vx = validate[feats]\n",
    "vy = validate.failure\n",
    "\n",
    "# Final X. y not available\n",
    "fx = final[feats]"
   ]
  },
  {
   "cell_type": "markdown",
   "metadata": {},
   "source": [
    "### Baseline Model"
   ]
  },
  {
   "cell_type": "markdown",
   "metadata": {},
   "source": [
    "I can use my custom baseline model class to quickly create some baseline metrics.  However, since we are using Area Under Curve metrics we can already tell that the AUC score will be 0.50.  This is because as the confidence threshold moves, what our predictions will be does not."
   ]
  },
  {
   "cell_type": "code",
   "execution_count": 29,
   "metadata": {},
   "outputs": [
    {
     "data": {
      "text/plain": [
       "(0.0, 0.7849705181282148)"
      ]
     },
     "execution_count": 29,
     "metadata": {},
     "output_type": "execute_result"
    }
   ],
   "source": [
    "# Create a new instance of my BaselineModel class, setting the aggregation function to 'mode'\n",
    "baseline = mytk.BaselineModel(method='mode')\n",
    "baseline.fit(train.failure)\n",
    "baseline.baseline, baseline.baseline_proba"
   ]
  },
  {
   "cell_type": "code",
   "execution_count": 30,
   "metadata": {},
   "outputs": [
    {
     "data": {
      "text/plain": [
       "<sklearn.metrics._plot.roc_curve.RocCurveDisplay at 0x159a8831c30>"
      ]
     },
     "execution_count": 30,
     "metadata": {},
     "output_type": "execute_result"
    },
    {
     "data": {
      "image/png": "[encoded data removed]",
      "text/plain": [
       "<Figure size 432x288 with 1 Axes>"
      ]
     },
     "metadata": {
      "needs_background": "light"
     },
     "output_type": "display_data"
    }
   ],
   "source": [
    "RocCurveDisplay.from_predictions(ty, baseline.predict_proba(ty))"
   ]
  },
  {
   "cell_type": "markdown",
   "metadata": {},
   "source": [
    "### Random Forest model"
   ]
  },
  {
   "cell_type": "code",
   "execution_count": 40,
   "metadata": {},
   "outputs": [
    {
     "data": {
      "text/plain": [
       "<AxesSubplot:>"
      ]
     },
     "execution_count": 40,
     "metadata": {},
     "output_type": "execute_result"
    },
    {
     "data": {
      "image/png": "[encoded data removed]",
      "text/plain": [
       "<Figure size 432x288 with 1 Axes>"
      ]
     },
     "metadata": {
      "needs_background": "light"
     },
     "output_type": "display_data"
    }
   ],
   "source": [
    "mets = {}\n",
    "for i in range (1, 16):\n",
    "    rfc = RandomForestClassifier(max_depth=i)\n",
    "    rfc.fit(tx, ty)\n",
    "    tp = rfc.predict_proba(tx)[:, 1]\n",
    "    sp = rfc.predict_proba(sx)[:, 1]\n",
    "    mets[f'{i}'] = {'train': roc_auc_score(ty, tp),\n",
    "                            'test': roc_auc_score(sy, sp)}\n",
    "rfc_aoc = pd.DataFrame.from_dict(mets, 'index')\n",
    "rfc_aoc.plot()"
   ]
  },
  {
   "cell_type": "code",
   "execution_count": 42,
   "metadata": {},
   "outputs": [
    {
     "data": {
      "text/plain": [
       "('2', 0.5958315340149639)"
      ]
     },
     "execution_count": 42,
     "metadata": {},
     "output_type": "execute_result"
    }
   ],
   "source": [
    "rfc_aoc.test.idxmax(), rfc_aoc.test.max()"
   ]
  },
  {
   "cell_type": "markdown",
   "metadata": {},
   "source": [
    "### K Nearest Neighbors Model"
   ]
  },
  {
   "cell_type": "code",
   "execution_count": 37,
   "metadata": {},
   "outputs": [
    {
     "data": {
      "text/plain": [
       "<AxesSubplot:>"
      ]
     },
     "execution_count": 37,
     "metadata": {},
     "output_type": "execute_result"
    },
    {
     "data": {
      "image/png": "[encoded data removed]",
      "text/plain": [
       "<Figure size 432x288 with 1 Axes>"
      ]
     },
     "metadata": {
      "needs_background": "light"
     },
     "output_type": "display_data"
    }
   ],
   "source": [
    "scaler = mytk.train_scaler(tx)\n",
    "scaled_tx = mytk.scale_df(tx, scaler)\n",
    "scaled_sx = mytk.scale_df(sx, scaler)\n",
    "\n",
    "mets = {}\n",
    "for i in range (20, 300, 10):\n",
    "    m = KNeighborsClassifier(n_neighbors=i)\n",
    "    m.fit(scaled_tx, ty)\n",
    "    tp = m.predict_proba(scaled_tx)[:, 1]\n",
    "    sp = m.predict_proba(scaled_sx)[:, 1]\n",
    "    mets[f'{i}'] = {'train': roc_auc_score(ty, tp),\n",
    "                            'test': roc_auc_score(sy, sp)}\n",
    "knn_aoc = pd.DataFrame.from_dict(mets, 'index')\n",
    "knn_aoc.plot()"
   ]
  },
  {
   "cell_type": "code",
   "execution_count": 43,
   "metadata": {},
   "outputs": [
    {
     "data": {
      "text/plain": [
       "('260', 0.5894807248357885)"
      ]
     },
     "execution_count": 43,
     "metadata": {},
     "output_type": "execute_result"
    }
   ],
   "source": [
    "knn_aoc.test.idxmax(), knn_aoc.test.max()"
   ]
  },
  {
   "cell_type": "markdown",
   "metadata": {},
   "source": [
    "# Conclusion"
   ]
  },
  {
   "cell_type": "markdown",
   "metadata": {},
   "source": [
    "Although the models I created performed better than baseline for the data from the training dataset, I cannot be confident that the model will perform anywhere near that level."
   ]
  }
 ],
 "metadata": {
  "kernelspec": {
   "display_name": "Python 3.10.4 64-bit",
   "language": "python",
   "name": "python3"
  },
  "language_info": {
   "codemirror_mode": {
    "name": "ipython",
    "version": 3
   },
   "file_extension": ".py",
   "mimetype": "text/x-python",
   "name": "python",
   "nbconvert_exporter": "python",
   "pygments_lexer": "ipython3",
   "version": "3.10.4"
  },
  "orig_nbformat": 4,
  "vscode": {
   "interpreter": {
    "hash": "37b4e1d782780d9803a775659fc8b81e9cc61a0899d4564192c1f7cc3c556e45"
   }
  }
 },
 "nbformat": 4,
 "nbformat_minor": 2
}
